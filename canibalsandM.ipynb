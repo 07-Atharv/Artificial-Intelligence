{
  "nbformat": 4,
  "nbformat_minor": 0,
  "metadata": {
    "colab": {
      "provenance": [],
      "authorship_tag": "ABX9TyMzyAeq3p1cDg9HHAClCu5V",
      "include_colab_link": true
    },
    "kernelspec": {
      "name": "python3",
      "display_name": "Python 3"
    },
    "language_info": {
      "name": "python"
    }
  },
  "cells": [
    {
      "cell_type": "markdown",
      "metadata": {
        "id": "view-in-github",
        "colab_type": "text"
      },
      "source": [
        "<a href=\"https://colab.research.google.com/github/07-Atharv/Artificial-Intelligence/blob/main/canibalsandM.ipynb\" target=\"_parent\"><img src=\"https://colab.research.google.com/assets/colab-badge.svg\" alt=\"Open In Colab\"/></a>"
      ]
    },
    {
      "cell_type": "code",
      "execution_count": null,
      "metadata": {
        "id": "MT3qz36vFRk1"
      },
      "outputs": [],
      "source": [
        "def check(currentstate):\n",
        "  missionaries,canibals,boats=currentstate\n",
        "  #check if the missionaries less than 0 or not entered and canibals also check that canibals and missionares are out of indexn if it then ret false\n",
        "  if missionaries < 0 or canibals < 0 or canibals > 3 or missionaries > 3:\n",
        "    return False\n",
        "  #there should be missionaries but not greater than canibals they should be equal\n",
        "  if ( missionaries > canibals ) and  missionaries > 0:\n",
        "    return False\n",
        "  if (3-canibals > 3-missionaries) and (3-missionaries > 0):\n",
        "    return False\n",
        "  return True"
      ]
    },
    {
      "cell_type": "code",
      "source": [
        "def trials(state):\n",
        "  missionares,canibals,boat = state\n",
        "  store_moves = []\n",
        "  #check if boat is true or not\n",
        "  #The selected C/M  will get reduced from left side \n",
        "  if boat==1:\n",
        "    #if 2 canibals are choosen\n",
        "    if check((missionares,canibals-2,0)):\n",
        "      store_moves.append((missionares,canibals-2,0))\n",
        "    #if 2 missionaries are choosen\n",
        "    if check((missionares-2,canibals,0)):\n",
        "      store_moves.append((missionares-2,canibals,0))\n",
        "    #if 1 canibals and 1 missionaries are choosen\n",
        "    if check((missionares-1,canibals-1,0)):\n",
        "      store_moves.append((missionares-1,canibals-1,0))\n",
        "    #if 1 canibal are choosen\n",
        "    if check((missionares,canibals-1,0)):\n",
        "      store_moves.append((missionares,canibals-1,0)) \n",
        "    #if 1 missionaries is chposen\n",
        "    if check((missionares-1,canibals,0)):\n",
        "      store_moves.append((missionares-1,canibals,0)) \n",
        "  #The selected C/M  will get added to right side \n",
        "  else:\n",
        "    #2 canibals are added to right side\n",
        "    if check((missionares,canibals+2,1)):\n",
        "      store_moves.append((missionares,canibals+2,1))\n",
        "    # 2 missionaries are added to right side\n",
        "    if check((missionares+2,canibals,1)):\n",
        "      store_moves.append((missionares+2,canibals,1))\n",
        "    # 1M AND 1C are added to right side\n",
        "    if check((missionares+1,canibals+1,1)):\n",
        "      store_moves.append((missionares+1,canibals+1,1))\n",
        "    #1 canibals are added to right side\n",
        "    if check((missionares,canibals+1,1)):\n",
        "      store_moves.append((missionares,canibals+1,1)) \n",
        "    # 1 missionaries are added to right side\n",
        "    if check((missionares+1,canibals,1)):\n",
        "      store_moves.append((missionares+1,canibals,1)) \n",
        "  return store_moves\n",
        "    \n",
        "      "
      ],
      "metadata": {
        "id": "CsRGAyJuYY7k"
      },
      "execution_count": null,
      "outputs": []
    },
    {
      "cell_type": "code",
      "source": [
        "def heuristic(state):\n",
        "  \n",
        "    missionares,canibals,boat = state\n",
        "    return (missionares+canibals-2) // 2"
      ],
      "metadata": {
        "id": "s0Xg1vvBi7zm"
      },
      "execution_count": null,
      "outputs": []
    },
    {
      "cell_type": "code",
      "source": [
        "import heapq\n",
        "def a_star_canmis(start_state):\n",
        "  store_least_to_most = []\n",
        "  heapq.heappush(store_least_to_most,(heuristic(start_state),0,[start_state]))\n",
        "  # heappush(heap, ele):heappush is a function that takes an argument which the element and inserts that element into the heap \n",
        "  visited_states = set()\n",
        "  #these will remove the duplicate states which have been visited\n",
        "  # While these is not false\n",
        "  while store_least_to_most:\n",
        "    #heappop(heap): heappop is a function that removes the smallest element in the heap and also returns it. \n",
        "    _,cost,path = heapq.heappop(store_least_to_most)\n",
        "    #current path is -1 as not started\n",
        "    store_current_state = path[-1]\n",
        "    # if the path is already visited then dont add it skip the current iteration\n",
        "    if store_current_state in visited_states:\n",
        "      continue\n",
        "    #if we have found the optimal path according to a star then return the path\n",
        "    if store_current_state==(0,0,0):\n",
        "      return path\n",
        "    visited_states.add(store_current_state)\n",
        "\n",
        "    for each_successor in trials(store_current_state):\n",
        "      if each_successor not in visited_states:\n",
        "        store_new_path = path + [each_successor]\n",
        "        new_cost = cost + 1\n",
        "        heapq.heappush(store_least_to_most,(new_cost+heuristic(each_successor),new_cost,store_new_path))\n",
        "  return None  \n",
        "\n",
        "\n"
      ],
      "metadata": {
        "id": "RPobG_OIjeOL"
      },
      "execution_count": null,
      "outputs": []
    },
    {
      "cell_type": "code",
      "source": [
        "print(\"Enter the number of missionaries: (Should be less than 3 or equal to 3)\")\n",
        "missionaries=int(input())\n",
        "print(\"Enter the number of Cnibals: (Should be less than 3 or equal to 3)\")\n",
        "canibals=int(input())\n",
        "leftBank=list()\n",
        "rightBank=list()\n",
        "boat=list()\n",
        "for i in range(0,missionaries):\n",
        "  leftBank.insert(i,\"M\")\n",
        "for i in range(missionaries,missionaries+canibals):\n",
        "  leftBank.insert(i,\"C\")\n",
        "for i in range(0,missionaries+canibals):\n",
        "  print((leftBank[i]))\n",
        "for i in range(0,2):\n",
        "  boat.append(None)\n",
        "\n",
        "print(\"The total player at left bank river are\",len(leftBank))\n",
        "countC = 0\n",
        "countM = 0\n",
        "for i in range(0,canibals+missionaries):\n",
        "  if leftBank[i]==\"M\":\n",
        "   countM = countM + 1\n",
        "\n",
        "  if leftBank[i]==\"C\":\n",
        "    countC = countC + 1\n",
        "print(\"Total Number of the canibals on the left side are:-\",countC,\"\\nTotal Number of missionaries on the left side are:-\",countM)\n",
        "\n",
        "enter_start_state = (missionaries,canibals,1)\n",
        "store_final_solution = a_star_canmis(enter_start_state)\n",
        "\n",
        "if store_final_solution:\n",
        "  print(\"Solution\")\n",
        "  print(store_final_solution)\n",
        "else:\n",
        "  print(\"No solution found\")"
      ],
      "metadata": {
        "colab": {
          "base_uri": "https://localhost:8080/"
        },
        "id": "DTkBeoLisAfe",
        "outputId": "06738d99-e5e5-42f6-d963-0e9bcd0b8b71"
      },
      "execution_count": null,
      "outputs": [
        {
          "output_type": "stream",
          "name": "stdout",
          "text": [
            "Enter the number of missionaries: (Should be less than 3 or equal to 3)\n",
            "3\n",
            "Enter the number of Cnibals: (Should be less than 3 or equal to 3)\n",
            "3\n",
            "M\n",
            "M\n",
            "M\n",
            "C\n",
            "C\n",
            "C\n",
            "The total player at left bank river are 6\n",
            "Total Number of the canibals on the left side are:- 3 \n",
            "Total Number of missionaries on the left side are:- 3\n",
            "Solution\n",
            "[(3, 3, 1), (1, 3, 0), (2, 3, 1), (0, 3, 0), (1, 3, 1), (0, 2, 0), (0, 3, 1), (0, 1, 0), (0, 2, 1), (0, 0, 0)]\n"
          ]
        }
      ]
    }
  ]
}